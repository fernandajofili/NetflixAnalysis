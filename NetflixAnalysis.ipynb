{
  "nbformat": 4,
  "nbformat_minor": 0,
  "metadata": {
    "colab": {
      "name": "NetflixAnalysis.ipynb",
      "provenance": [],
      "authorship_tag": "ABX9TyOcXveyytVFPC0w6jvwXPxN",
      "include_colab_link": true
    },
    "kernelspec": {
      "name": "python3",
      "display_name": "Python 3"
    }
  },
  "cells": [
    {
      "cell_type": "markdown",
      "metadata": {
        "id": "view-in-github",
        "colab_type": "text"
      },
      "source": [
        "<a href=\"https://colab.research.google.com/github/fernandajofili/NetflixAnalysis/blob/main/NetflixAnalysis.ipynb\" target=\"_parent\"><img src=\"https://colab.research.google.com/assets/colab-badge.svg\" alt=\"Open In Colab\"/></a>"
      ]
    },
    {
      "cell_type": "markdown",
      "metadata": {
        "id": "WT387s8mSw04"
      },
      "source": [
        "# Analisar QUANTO e QUANDO assisti a Dark.\n",
        "\n",
        "A partir dos dados de filmes e séries assistidos na Netflix, é possível fazer diversas análises.\n",
        "\n",
        "A minha proposta é descobrir quanto tempo eu, Fernanda (perfil \"Nanda\" da Netflix), passei assistindo a série alemã Dark. Também ver em quais dias da semana e em que horas eu assisti.\n",
        "\n",
        "As análises e passos são descritos ao longo deste notebook."
      ]
    },
    {
      "cell_type": "code",
      "metadata": {
        "colab": {
          "base_uri": "https://localhost:8080/"
        },
        "id": "3MdUkME14sOR",
        "outputId": "860b633d-c05a-4bf1-9dc6-9780a59197b8"
      },
      "source": [
        "import pandas as pd\n",
        "\n",
        "from google.colab import drive\n",
        "drive.mount(\"/content/drive\")"
      ],
      "execution_count": null,
      "outputs": [
        {
          "output_type": "stream",
          "text": [
            "Mounted at /content/drive\n"
          ],
          "name": "stdout"
        }
      ]
    },
    {
      "cell_type": "code",
      "metadata": {
        "id": "dSzVwtiYRRAu"
      },
      "source": [
        "df_geral = pd.read_csv('/content/drive/My Drive/Data Science/Netflix Data/Content_Interaction/ViewingActivity.csv')"
      ],
      "execution_count": null,
      "outputs": []
    },
    {
      "cell_type": "code",
      "metadata": {
        "colab": {
          "base_uri": "https://localhost:8080/"
        },
        "id": "ZkamswDeSfh4",
        "outputId": "42a1be54-4488-45c6-bbb6-06e61ae4c9f2"
      },
      "source": [
        "df_geral.shape"
      ],
      "execution_count": null,
      "outputs": [
        {
          "output_type": "execute_result",
          "data": {
            "text/plain": [
              "(32007, 10)"
            ]
          },
          "metadata": {
            "tags": []
          },
          "execution_count": 56
        }
      ]
    },
    {
      "cell_type": "code",
      "metadata": {
        "colab": {
          "base_uri": "https://localhost:8080/",
          "height": 296
        },
        "id": "yI5jl0mISi6G",
        "outputId": "117f4ea2-4933-4a53-dac5-7691750ccbb2"
      },
      "source": [
        "df_geral.head()"
      ],
      "execution_count": null,
      "outputs": [
        {
          "output_type": "execute_result",
          "data": {
            "text/html": [
              "<div>\n",
              "<style scoped>\n",
              "    .dataframe tbody tr th:only-of-type {\n",
              "        vertical-align: middle;\n",
              "    }\n",
              "\n",
              "    .dataframe tbody tr th {\n",
              "        vertical-align: top;\n",
              "    }\n",
              "\n",
              "    .dataframe thead th {\n",
              "        text-align: right;\n",
              "    }\n",
              "</style>\n",
              "<table border=\"1\" class=\"dataframe\">\n",
              "  <thead>\n",
              "    <tr style=\"text-align: right;\">\n",
              "      <th></th>\n",
              "      <th>Profile Name</th>\n",
              "      <th>Start Time</th>\n",
              "      <th>Duration</th>\n",
              "      <th>Attributes</th>\n",
              "      <th>Title</th>\n",
              "      <th>Supplemental Video Type</th>\n",
              "      <th>Device Type</th>\n",
              "      <th>Bookmark</th>\n",
              "      <th>Latest Bookmark</th>\n",
              "      <th>Country</th>\n",
              "    </tr>\n",
              "  </thead>\n",
              "  <tbody>\n",
              "    <tr>\n",
              "      <th>0</th>\n",
              "      <td>Antonio</td>\n",
              "      <td>2020-11-11 00:32:25</td>\n",
              "      <td>00:20:55</td>\n",
              "      <td>NaN</td>\n",
              "      <td>Jornada nas Estrelas: Deep Space Nine: Tempora...</td>\n",
              "      <td>NaN</td>\n",
              "      <td>Android DefaultWidevineL3Tablet Android Tablet</td>\n",
              "      <td>00:20:55</td>\n",
              "      <td>00:20:55</td>\n",
              "      <td>BR (Brazil)</td>\n",
              "    </tr>\n",
              "    <tr>\n",
              "      <th>1</th>\n",
              "      <td>Antonio</td>\n",
              "      <td>2020-11-11 00:13:43</td>\n",
              "      <td>00:18:34</td>\n",
              "      <td>NaN</td>\n",
              "      <td>Jornada nas Estrelas: Deep Space Nine: Tempora...</td>\n",
              "      <td>NaN</td>\n",
              "      <td>Android DefaultWidevineL3Tablet Android Tablet</td>\n",
              "      <td>00:44:46</td>\n",
              "      <td>00:44:46</td>\n",
              "      <td>BR (Brazil)</td>\n",
              "    </tr>\n",
              "    <tr>\n",
              "      <th>2</th>\n",
              "      <td>Jô</td>\n",
              "      <td>2020-11-10 18:38:51</td>\n",
              "      <td>00:15:49</td>\n",
              "      <td>Autoplayed: user action: None;</td>\n",
              "      <td>Seoul Searching</td>\n",
              "      <td>NaN</td>\n",
              "      <td>Samsung 2017 Kant-M UHD TV Smart TV</td>\n",
              "      <td>00:15:49</td>\n",
              "      <td>00:15:49</td>\n",
              "      <td>BR (Brazil)</td>\n",
              "    </tr>\n",
              "    <tr>\n",
              "      <th>3</th>\n",
              "      <td>Jô</td>\n",
              "      <td>2020-11-10 18:37:52</td>\n",
              "      <td>00:00:04</td>\n",
              "      <td>Autoplayed: user action: None;</td>\n",
              "      <td>Temporada 1 (Vídeo extra): DASH &amp; LILY</td>\n",
              "      <td>TRAILER</td>\n",
              "      <td>Samsung 2017 Kant-M UHD TV Smart TV</td>\n",
              "      <td>00:00:04</td>\n",
              "      <td>00:00:04</td>\n",
              "      <td>BR (Brazil)</td>\n",
              "    </tr>\n",
              "    <tr>\n",
              "      <th>4</th>\n",
              "      <td>Jô</td>\n",
              "      <td>2020-11-10 18:36:59</td>\n",
              "      <td>00:00:41</td>\n",
              "      <td>Autoplayed: user action: None;</td>\n",
              "      <td>Kingdom: Season 1 (Hook 2)</td>\n",
              "      <td>HOOK</td>\n",
              "      <td>Samsung 2017 Kant-M UHD TV Smart TV</td>\n",
              "      <td>00:00:41</td>\n",
              "      <td>00:00:41</td>\n",
              "      <td>BR (Brazil)</td>\n",
              "    </tr>\n",
              "  </tbody>\n",
              "</table>\n",
              "</div>"
            ],
            "text/plain": [
              "  Profile Name           Start Time  ... Latest Bookmark      Country\n",
              "0      Antonio  2020-11-11 00:32:25  ...        00:20:55  BR (Brazil)\n",
              "1      Antonio  2020-11-11 00:13:43  ...        00:44:46  BR (Brazil)\n",
              "2           Jô  2020-11-10 18:38:51  ...        00:15:49  BR (Brazil)\n",
              "3           Jô  2020-11-10 18:37:52  ...        00:00:04  BR (Brazil)\n",
              "4           Jô  2020-11-10 18:36:59  ...        00:00:41  BR (Brazil)\n",
              "\n",
              "[5 rows x 10 columns]"
            ]
          },
          "metadata": {
            "tags": []
          },
          "execution_count": 57
        }
      ]
    },
    {
      "cell_type": "markdown",
      "metadata": {
        "id": "zEVukUlwTen3"
      },
      "source": [
        "## Filtrando apenas para dados assistidos no Perfil = Nanda.\n",
        "\n",
        "E passar esse filtro para a variável **df**"
      ]
    },
    {
      "cell_type": "code",
      "metadata": {
        "colab": {
          "base_uri": "https://localhost:8080/"
        },
        "id": "FmArRWrBS3B0",
        "outputId": "709783d1-1176-48b5-d1eb-8f763bd2b509"
      },
      "source": [
        "is_fernanda = df_geral['Profile Name'] == 'Nanda'\n",
        "print(is_fernanda.head())"
      ],
      "execution_count": null,
      "outputs": [
        {
          "output_type": "stream",
          "text": [
            "0    False\n",
            "1    False\n",
            "2    False\n",
            "3    False\n",
            "4    False\n",
            "Name: Profile Name, dtype: bool\n"
          ],
          "name": "stdout"
        }
      ]
    },
    {
      "cell_type": "code",
      "metadata": {
        "colab": {
          "base_uri": "https://localhost:8080/"
        },
        "id": "nuHvZXrOTs6i",
        "outputId": "d3ff21c6-4fa3-4d30-c783-6d5592f81f29"
      },
      "source": [
        "df = df_geral[is_fernanda]\n",
        "# print(df.head())\n",
        "df.shape"
      ],
      "execution_count": null,
      "outputs": [
        {
          "output_type": "execute_result",
          "data": {
            "text/plain": [
              "(6710, 10)"
            ]
          },
          "metadata": {
            "tags": []
          },
          "execution_count": 129
        }
      ]
    },
    {
      "cell_type": "markdown",
      "metadata": {
        "id": "fOa8NJIgUBOs"
      },
      "source": [
        "## Agora que já temos um DF do perfil \"Nanda\", dropamos as colunas que não são importantes.\n",
        "\n",
        "Para esta análise, não precisaremos das colunas:\n",
        "- Profile Name\n",
        "- Attributes\n",
        "- Supplemental Video Type\n",
        "- Device Type\n",
        "- Bookmark\n",
        "- Latest Bookmark\n",
        "- Country"
      ]
    },
    {
      "cell_type": "code",
      "metadata": {
        "colab": {
          "base_uri": "https://localhost:8080/",
          "height": 195
        },
        "id": "iYv4SO-4UA5p",
        "outputId": "96638e2a-6a74-46d3-8258-686e6b229ee7"
      },
      "source": [
        "df = df.drop(['Profile Name', 'Attributes', 'Supplemental Video Type', 'Device Type', 'Bookmark', 'Latest Bookmark', 'Country'], axis=1)\n",
        "df.head()"
      ],
      "execution_count": null,
      "outputs": [
        {
          "output_type": "execute_result",
          "data": {
            "text/html": [
              "<div>\n",
              "<style scoped>\n",
              "    .dataframe tbody tr th:only-of-type {\n",
              "        vertical-align: middle;\n",
              "    }\n",
              "\n",
              "    .dataframe tbody tr th {\n",
              "        vertical-align: top;\n",
              "    }\n",
              "\n",
              "    .dataframe thead th {\n",
              "        text-align: right;\n",
              "    }\n",
              "</style>\n",
              "<table border=\"1\" class=\"dataframe\">\n",
              "  <thead>\n",
              "    <tr style=\"text-align: right;\">\n",
              "      <th></th>\n",
              "      <th>Start Time</th>\n",
              "      <th>Duration</th>\n",
              "      <th>Title</th>\n",
              "    </tr>\n",
              "  </thead>\n",
              "  <tbody>\n",
              "    <tr>\n",
              "      <th>82</th>\n",
              "      <td>2020-11-06 01:38:50</td>\n",
              "      <td>00:00:36</td>\n",
              "      <td>Temporada 1 (Clipe 2): Emily em Paris</td>\n",
              "    </tr>\n",
              "    <tr>\n",
              "      <th>95</th>\n",
              "      <td>2020-11-05 23:07:54</td>\n",
              "      <td>02:18:09</td>\n",
              "      <td>O Diabo de Cada Dia</td>\n",
              "    </tr>\n",
              "    <tr>\n",
              "      <th>96</th>\n",
              "      <td>2020-11-05 23:07:01</td>\n",
              "      <td>00:00:17</td>\n",
              "      <td>The Conjuring_hook_primary_16x9</td>\n",
              "    </tr>\n",
              "    <tr>\n",
              "      <th>97</th>\n",
              "      <td>2020-11-05 23:06:56</td>\n",
              "      <td>00:00:04</td>\n",
              "      <td>The Good Place: Temporada 4 (Trailer)</td>\n",
              "    </tr>\n",
              "    <tr>\n",
              "      <th>101</th>\n",
              "      <td>2020-11-04 20:48:10</td>\n",
              "      <td>00:21:42</td>\n",
              "      <td>Modern Family: Temporada 10: Aniversários (Epi...</td>\n",
              "    </tr>\n",
              "  </tbody>\n",
              "</table>\n",
              "</div>"
            ],
            "text/plain": [
              "              Start Time  ...                                              Title\n",
              "82   2020-11-06 01:38:50  ...              Temporada 1 (Clipe 2): Emily em Paris\n",
              "95   2020-11-05 23:07:54  ...                                O Diabo de Cada Dia\n",
              "96   2020-11-05 23:07:01  ...                    The Conjuring_hook_primary_16x9\n",
              "97   2020-11-05 23:06:56  ...              The Good Place: Temporada 4 (Trailer)\n",
              "101  2020-11-04 20:48:10  ...  Modern Family: Temporada 10: Aniversários (Epi...\n",
              "\n",
              "[5 rows x 3 columns]"
            ]
          },
          "metadata": {
            "tags": []
          },
          "execution_count": 112
        }
      ]
    },
    {
      "cell_type": "markdown",
      "metadata": {
        "id": "1G7f1XexUomq"
      },
      "source": [
        "## Convertendo strings em Datetiem e Timedelta com Pandas\n",
        "\n",
        "Os dados fornecidos pela Netflix estão em UTC timezone. Precisamos converter para minha hora local (UTC/GMT-3).\n",
        "\n",
        "Primeiro checo o tipo de dados de cada coluna do dataframe:"
      ]
    },
    {
      "cell_type": "code",
      "metadata": {
        "colab": {
          "base_uri": "https://localhost:8080/"
        },
        "id": "p6bY4HAMUoZ_",
        "outputId": "be7a1049-fbc9-4f21-bb14-5ecf2b2091b5"
      },
      "source": [
        "df.dtypes"
      ],
      "execution_count": null,
      "outputs": [
        {
          "output_type": "execute_result",
          "data": {
            "text/plain": [
              "Start Time    object\n",
              "Duration      object\n",
              "Title         object\n",
              "dtype: object"
            ]
          },
          "metadata": {
            "tags": []
          },
          "execution_count": 113
        }
      ]
    },
    {
      "cell_type": "markdown",
      "metadata": {
        "id": "9t5uj-2sVSNu"
      },
      "source": [
        "### Como estão todos em strings (object), teremos que fazer os seguintes passos para as colunas de tempo:\n",
        "\n",
        " Converter **Start Time** para datetime, num formato que pandas possa entender e fazer cálculos\n",
        "2) Converter **Start Time** de UTC para GMT-3\n",
        "3) Converter **Duration** para timdelta, um formato de duração que pandas possa entender e fazer cálculos"
      ]
    },
    {
      "cell_type": "code",
      "metadata": {
        "colab": {
          "base_uri": "https://localhost:8080/"
        },
        "id": "VVBTJykhVsHG",
        "outputId": "d4c67ae4-7fdd-4097-9b2a-0edc0ec83106"
      },
      "source": [
        "df['Start Time'] = pd.to_datetime(df['Start Time'], utc=True)\n",
        "df.dtypes"
      ],
      "execution_count": null,
      "outputs": [
        {
          "output_type": "execute_result",
          "data": {
            "text/plain": [
              "Start Time    datetime64[ns, UTC]\n",
              "Duration                   object\n",
              "Title                      object\n",
              "dtype: object"
            ]
          },
          "metadata": {
            "tags": []
          },
          "execution_count": 114
        }
      ]
    },
    {
      "cell_type": "markdown",
      "metadata": {
        "id": "HsDDixM6V_3K"
      },
      "source": [
        "### Para encontrar o parâmetro da timezone\n",
        "\n",
        "Acessar: https://en.wikipedia.org/wiki/List_of_tz_database_time_zones\n",
        "\n",
        "Para **Recife**: America/Recife\n",
        "\n",
        "### Só podemos usar .tz_convert() em DatetimeIndex\n",
        "\n",
        "Para isso, precisamos definir a coluna **Start Time** como index, usando **set_index()** antes da conversão.\n",
        "Para retornar para coluna normal depois da conversão, usamos **reset_index()**"
      ]
    },
    {
      "cell_type": "code",
      "metadata": {
        "colab": {
          "base_uri": "https://localhost:8080/",
          "height": 195
        },
        "id": "9ZLPD17sWVGm",
        "outputId": "c77a2dd0-5586-49fd-e42e-7ac1a643b3a4"
      },
      "source": [
        "# Muda a coluna \"Start Time\" para dataframe index (passa a ser um índice)\n",
        "df = df.set_index('Start Time')\n",
        "\n",
        "# Converte a hora de UTC para GMT-3\n",
        "df.index = df.index.tz_convert('America/Recife')\n",
        "\n",
        "# Reseta \"Start Time\" para coluna de volta\n",
        "df = df.reset_index()\n",
        "\n",
        "# Check se funcionou\n",
        "df.head()"
      ],
      "execution_count": null,
      "outputs": [
        {
          "output_type": "execute_result",
          "data": {
            "text/html": [
              "<div>\n",
              "<style scoped>\n",
              "    .dataframe tbody tr th:only-of-type {\n",
              "        vertical-align: middle;\n",
              "    }\n",
              "\n",
              "    .dataframe tbody tr th {\n",
              "        vertical-align: top;\n",
              "    }\n",
              "\n",
              "    .dataframe thead th {\n",
              "        text-align: right;\n",
              "    }\n",
              "</style>\n",
              "<table border=\"1\" class=\"dataframe\">\n",
              "  <thead>\n",
              "    <tr style=\"text-align: right;\">\n",
              "      <th></th>\n",
              "      <th>Start Time</th>\n",
              "      <th>Duration</th>\n",
              "      <th>Title</th>\n",
              "    </tr>\n",
              "  </thead>\n",
              "  <tbody>\n",
              "    <tr>\n",
              "      <th>0</th>\n",
              "      <td>2020-11-05 22:38:50-03:00</td>\n",
              "      <td>00:00:36</td>\n",
              "      <td>Temporada 1 (Clipe 2): Emily em Paris</td>\n",
              "    </tr>\n",
              "    <tr>\n",
              "      <th>1</th>\n",
              "      <td>2020-11-05 20:07:54-03:00</td>\n",
              "      <td>02:18:09</td>\n",
              "      <td>O Diabo de Cada Dia</td>\n",
              "    </tr>\n",
              "    <tr>\n",
              "      <th>2</th>\n",
              "      <td>2020-11-05 20:07:01-03:00</td>\n",
              "      <td>00:00:17</td>\n",
              "      <td>The Conjuring_hook_primary_16x9</td>\n",
              "    </tr>\n",
              "    <tr>\n",
              "      <th>3</th>\n",
              "      <td>2020-11-05 20:06:56-03:00</td>\n",
              "      <td>00:00:04</td>\n",
              "      <td>The Good Place: Temporada 4 (Trailer)</td>\n",
              "    </tr>\n",
              "    <tr>\n",
              "      <th>4</th>\n",
              "      <td>2020-11-04 17:48:10-03:00</td>\n",
              "      <td>00:21:42</td>\n",
              "      <td>Modern Family: Temporada 10: Aniversários (Epi...</td>\n",
              "    </tr>\n",
              "  </tbody>\n",
              "</table>\n",
              "</div>"
            ],
            "text/plain": [
              "                 Start Time  ...                                              Title\n",
              "0 2020-11-05 22:38:50-03:00  ...              Temporada 1 (Clipe 2): Emily em Paris\n",
              "1 2020-11-05 20:07:54-03:00  ...                                O Diabo de Cada Dia\n",
              "2 2020-11-05 20:07:01-03:00  ...                    The Conjuring_hook_primary_16x9\n",
              "3 2020-11-05 20:06:56-03:00  ...              The Good Place: Temporada 4 (Trailer)\n",
              "4 2020-11-04 17:48:10-03:00  ...  Modern Family: Temporada 10: Aniversários (Epi...\n",
              "\n",
              "[5 rows x 3 columns]"
            ]
          },
          "metadata": {
            "tags": []
          },
          "execution_count": 115
        }
      ]
    },
    {
      "cell_type": "markdown",
      "metadata": {
        "id": "6iLJM-FBXnCx"
      },
      "source": [
        "### Tratamento da coluna 'Duration'\n",
        "\n",
        "Como é uma variação de tempo, converteremos para um Timedelta - medida de tempo que Pandas entende."
      ]
    },
    {
      "cell_type": "code",
      "metadata": {
        "colab": {
          "base_uri": "https://localhost:8080/"
        },
        "id": "nNFYj661XyId",
        "outputId": "14a8026a-756e-4534-e5f5-d8e47d5fea09"
      },
      "source": [
        "df['Duration'] = pd.to_timedelta(df['Duration'])\n",
        "df.dtypes"
      ],
      "execution_count": null,
      "outputs": [
        {
          "output_type": "execute_result",
          "data": {
            "text/plain": [
              "Start Time    datetime64[ns, America/Recife]\n",
              "Duration                     timedelta64[ns]\n",
              "Title                                 object\n",
              "dtype: object"
            ]
          },
          "metadata": {
            "tags": []
          },
          "execution_count": 116
        }
      ]
    },
    {
      "cell_type": "markdown",
      "metadata": {
        "id": "zSRAlv3nX41H"
      },
      "source": [
        "## Filtros de string para encontrar '**Dark**'.\n",
        "\n",
        "Para fácil manipulação, criarei um dataframe **dark** que só terá linhas onde o título contém \"**Dark**\"."
      ]
    },
    {
      "cell_type": "code",
      "metadata": {
        "colab": {
          "base_uri": "https://localhost:8080/"
        },
        "id": "HCNysHNSYyUG",
        "outputId": "0f36c049-ce38-4ab6-ee46-2a5a1e58a4d6"
      },
      "source": [
        "dark = df[df['Title'].str.contains('Dark', regex=False)]\n",
        "dark.shape"
      ],
      "execution_count": null,
      "outputs": [
        {
          "output_type": "execute_result",
          "data": {
            "text/plain": [
              "(145, 10)"
            ]
          },
          "metadata": {
            "tags": []
          },
          "execution_count": 130
        }
      ]
    },
    {
      "cell_type": "markdown",
      "metadata": {
        "id": "zuz2sI_cY7Mn"
      },
      "source": [
        "### Checando algumas amostras da seleção\n",
        "Podemos checar 10, 20 amostras para ver se a seleção deu certo e a amostra **dark** traz apenas registros onde o título tem 'Dark'."
      ]
    },
    {
      "cell_type": "code",
      "metadata": {
        "colab": {
          "base_uri": "https://localhost:8080/",
          "height": 992
        },
        "id": "q1Wz7Y5MZJys",
        "outputId": "31f35859-8e2f-48c6-b637-88534da18397"
      },
      "source": [
        "dark.sample(20)"
      ],
      "execution_count": null,
      "outputs": [
        {
          "output_type": "execute_result",
          "data": {
            "text/html": [
              "<div>\n",
              "<style scoped>\n",
              "    .dataframe tbody tr th:only-of-type {\n",
              "        vertical-align: middle;\n",
              "    }\n",
              "\n",
              "    .dataframe tbody tr th {\n",
              "        vertical-align: top;\n",
              "    }\n",
              "\n",
              "    .dataframe thead th {\n",
              "        text-align: right;\n",
              "    }\n",
              "</style>\n",
              "<table border=\"1\" class=\"dataframe\">\n",
              "  <thead>\n",
              "    <tr style=\"text-align: right;\">\n",
              "      <th></th>\n",
              "      <th>Profile Name</th>\n",
              "      <th>Start Time</th>\n",
              "      <th>Duration</th>\n",
              "      <th>Attributes</th>\n",
              "      <th>Title</th>\n",
              "      <th>Supplemental Video Type</th>\n",
              "      <th>Device Type</th>\n",
              "      <th>Bookmark</th>\n",
              "      <th>Latest Bookmark</th>\n",
              "      <th>Country</th>\n",
              "    </tr>\n",
              "  </thead>\n",
              "  <tbody>\n",
              "    <tr>\n",
              "      <th>3608</th>\n",
              "      <td>Nanda</td>\n",
              "      <td>2020-05-16 04:04:55</td>\n",
              "      <td>00:07:52</td>\n",
              "      <td>Autoplayed: user action: None;</td>\n",
              "      <td>Dark: Temporada 2: Fantasmas (Episódio 3)</td>\n",
              "      <td>NaN</td>\n",
              "      <td>Chrome PC (Cadmium)</td>\n",
              "      <td>00:07:57</td>\n",
              "      <td>Not latest view</td>\n",
              "      <td>BR (Brazil)</td>\n",
              "    </tr>\n",
              "    <tr>\n",
              "      <th>8526</th>\n",
              "      <td>Nanda</td>\n",
              "      <td>2019-06-22 08:15:11</td>\n",
              "      <td>00:54:13</td>\n",
              "      <td>NaN</td>\n",
              "      <td>Dark: Temporada 2: Diabo Branco (Episódio 7)</td>\n",
              "      <td>NaN</td>\n",
              "      <td>Netflix Windows App - Cadmium Windows Mobile</td>\n",
              "      <td>00:54:46</td>\n",
              "      <td>Not latest view</td>\n",
              "      <td>BR (Brazil)</td>\n",
              "    </tr>\n",
              "    <tr>\n",
              "      <th>2298</th>\n",
              "      <td>Nanda</td>\n",
              "      <td>2020-06-27 13:20:01</td>\n",
              "      <td>00:55:56</td>\n",
              "      <td>Autoplayed: user action: None;</td>\n",
              "      <td>Dark: Temporada 3: Os sobreviventes (Episódio 2)</td>\n",
              "      <td>NaN</td>\n",
              "      <td>Chrome PC (Cadmium)</td>\n",
              "      <td>00:55:22</td>\n",
              "      <td>00:55:22</td>\n",
              "      <td>BR (Brazil)</td>\n",
              "    </tr>\n",
              "    <tr>\n",
              "      <th>2291</th>\n",
              "      <td>Nanda</td>\n",
              "      <td>2020-06-27 21:50:24</td>\n",
              "      <td>01:08:55</td>\n",
              "      <td>NaN</td>\n",
              "      <td>Dark: Temporada 3: O paraíso (Episódio 8)</td>\n",
              "      <td>NaN</td>\n",
              "      <td>Chrome PC (Cadmium)</td>\n",
              "      <td>01:08:20</td>\n",
              "      <td>01:08:20</td>\n",
              "      <td>BR (Brazil)</td>\n",
              "    </tr>\n",
              "    <tr>\n",
              "      <th>8950</th>\n",
              "      <td>Nanda</td>\n",
              "      <td>2019-05-28 21:00:08</td>\n",
              "      <td>00:19:15</td>\n",
              "      <td>NaN</td>\n",
              "      <td>Dark: Temporada 1: Você colhe o que planta (Ep...</td>\n",
              "      <td>NaN</td>\n",
              "      <td>Netflix Windows App - Cadmium Windows Mobile</td>\n",
              "      <td>00:47:35</td>\n",
              "      <td>Not latest view</td>\n",
              "      <td>BR (Brazil)</td>\n",
              "    </tr>\n",
              "    <tr>\n",
              "      <th>7468</th>\n",
              "      <td>Nanda</td>\n",
              "      <td>2019-08-21 12:46:46</td>\n",
              "      <td>00:54:04</td>\n",
              "      <td>Autoplayed: user action: None;</td>\n",
              "      <td>Dark: Temporada 1: Alfa e ômega (Episódio 10)</td>\n",
              "      <td>NaN</td>\n",
              "      <td>Netflix Windows App - Cadmium Windows Mobile</td>\n",
              "      <td>00:54:04</td>\n",
              "      <td>Not latest view</td>\n",
              "      <td>BR (Brazil)</td>\n",
              "    </tr>\n",
              "    <tr>\n",
              "      <th>3100</th>\n",
              "      <td>Nanda</td>\n",
              "      <td>2020-05-30 20:02:01</td>\n",
              "      <td>00:44:54</td>\n",
              "      <td>NaN</td>\n",
              "      <td>Dark: Temporada 1: Vidas duplas (Episódio 4)</td>\n",
              "      <td>NaN</td>\n",
              "      <td>Chrome PC (Cadmium)</td>\n",
              "      <td>00:45:00</td>\n",
              "      <td>00:45:00</td>\n",
              "      <td>BR (Brazil)</td>\n",
              "    </tr>\n",
              "    <tr>\n",
              "      <th>8541</th>\n",
              "      <td>Nanda</td>\n",
              "      <td>2019-06-21 19:43:11</td>\n",
              "      <td>00:53:09</td>\n",
              "      <td>NaN</td>\n",
              "      <td>Dark: Temporada 2: Matéria escura (Episódio 2)</td>\n",
              "      <td>NaN</td>\n",
              "      <td>Netflix Windows App - Cadmium Windows Mobile</td>\n",
              "      <td>00:51:29</td>\n",
              "      <td>Not latest view</td>\n",
              "      <td>BR (Brazil)</td>\n",
              "    </tr>\n",
              "    <tr>\n",
              "      <th>2299</th>\n",
              "      <td>Nanda</td>\n",
              "      <td>2020-06-27 12:19:11</td>\n",
              "      <td>00:57:48</td>\n",
              "      <td>NaN</td>\n",
              "      <td>Dark: Temporada 3: Déjà-vu (Episódio 1)</td>\n",
              "      <td>NaN</td>\n",
              "      <td>Chrome PC (Cadmium)</td>\n",
              "      <td>00:57:28</td>\n",
              "      <td>00:57:28</td>\n",
              "      <td>BR (Brazil)</td>\n",
              "    </tr>\n",
              "    <tr>\n",
              "      <th>9280</th>\n",
              "      <td>Nanda</td>\n",
              "      <td>2019-05-08 05:53:21</td>\n",
              "      <td>00:46:54</td>\n",
              "      <td>NaN</td>\n",
              "      <td>Dark: Temporada 1: Assim foi criado o mundo (E...</td>\n",
              "      <td>NaN</td>\n",
              "      <td>Netflix Windows App - Cadmium Windows Mobile</td>\n",
              "      <td>00:47:59</td>\n",
              "      <td>Not latest view</td>\n",
              "      <td>BR (Brazil)</td>\n",
              "    </tr>\n",
              "    <tr>\n",
              "      <th>8539</th>\n",
              "      <td>Nanda</td>\n",
              "      <td>2019-06-21 21:33:46</td>\n",
              "      <td>00:31:27</td>\n",
              "      <td>NaN</td>\n",
              "      <td>Dark: Temporada 2: Os viajantes (Episódio 4)</td>\n",
              "      <td>NaN</td>\n",
              "      <td>Netflix Windows App - Cadmium Windows Mobile</td>\n",
              "      <td>00:30:37</td>\n",
              "      <td>Not latest view</td>\n",
              "      <td>BR (Brazil)</td>\n",
              "    </tr>\n",
              "    <tr>\n",
              "      <th>8951</th>\n",
              "      <td>Nanda</td>\n",
              "      <td>2019-05-28 16:53:59</td>\n",
              "      <td>00:10:23</td>\n",
              "      <td>NaN</td>\n",
              "      <td>Dark: Temporada 1: Você colhe o que planta (Ep...</td>\n",
              "      <td>NaN</td>\n",
              "      <td>Netflix Windows App - Cadmium Windows Mobile</td>\n",
              "      <td>00:28:20</td>\n",
              "      <td>Not latest view</td>\n",
              "      <td>BR (Brazil)</td>\n",
              "    </tr>\n",
              "    <tr>\n",
              "      <th>8542</th>\n",
              "      <td>Nanda</td>\n",
              "      <td>2019-06-21 07:30:08</td>\n",
              "      <td>00:25:58</td>\n",
              "      <td>NaN</td>\n",
              "      <td>Dark: Temporada 2: Começos e fins (Episódio 1)</td>\n",
              "      <td>NaN</td>\n",
              "      <td>Netflix Windows App - Cadmium Windows Mobile</td>\n",
              "      <td>00:50:19</td>\n",
              "      <td>Not latest view</td>\n",
              "      <td>BR (Brazil)</td>\n",
              "    </tr>\n",
              "    <tr>\n",
              "      <th>2423</th>\n",
              "      <td>Nanda</td>\n",
              "      <td>2020-06-21 01:55:41</td>\n",
              "      <td>00:25:07</td>\n",
              "      <td>Autoplayed: user action: None;</td>\n",
              "      <td>Dark: Temporada 2: Diabo Branco (Episódio 7)</td>\n",
              "      <td>NaN</td>\n",
              "      <td>Chrome PC (Cadmium)</td>\n",
              "      <td>00:25:12</td>\n",
              "      <td>Not latest view</td>\n",
              "      <td>BR (Brazil)</td>\n",
              "    </tr>\n",
              "    <tr>\n",
              "      <th>7467</th>\n",
              "      <td>Nanda</td>\n",
              "      <td>2019-08-21 13:40:55</td>\n",
              "      <td>00:50:33</td>\n",
              "      <td>Autoplayed: user action: None;</td>\n",
              "      <td>Dark: Temporada 2: Começos e fins (Episódio 1)</td>\n",
              "      <td>NaN</td>\n",
              "      <td>Netflix Windows App - Cadmium Windows Mobile</td>\n",
              "      <td>00:50:33</td>\n",
              "      <td>Not latest view</td>\n",
              "      <td>BR (Brazil)</td>\n",
              "    </tr>\n",
              "    <tr>\n",
              "      <th>2429</th>\n",
              "      <td>Nanda</td>\n",
              "      <td>2020-06-21 01:04:35</td>\n",
              "      <td>00:51:04</td>\n",
              "      <td>Autoplayed: user action: None;</td>\n",
              "      <td>Dark: Temporada 2: Ciclo sem fim (Episódio 6)</td>\n",
              "      <td>NaN</td>\n",
              "      <td>Chrome PC (Cadmium)</td>\n",
              "      <td>00:50:59</td>\n",
              "      <td>00:50:59</td>\n",
              "      <td>BR (Brazil)</td>\n",
              "    </tr>\n",
              "    <tr>\n",
              "      <th>2435</th>\n",
              "      <td>Nanda</td>\n",
              "      <td>2020-06-20 21:41:57</td>\n",
              "      <td>00:36:19</td>\n",
              "      <td>NaN</td>\n",
              "      <td>Dark: Temporada 2: Achados e perdidos (Episódi...</td>\n",
              "      <td>NaN</td>\n",
              "      <td>Chrome PC (Cadmium)</td>\n",
              "      <td>00:36:24</td>\n",
              "      <td>Not latest view</td>\n",
              "      <td>BR (Brazil)</td>\n",
              "    </tr>\n",
              "    <tr>\n",
              "      <th>3186</th>\n",
              "      <td>Nanda</td>\n",
              "      <td>2020-05-28 20:10:03</td>\n",
              "      <td>00:16:00</td>\n",
              "      <td>NaN</td>\n",
              "      <td>Dark: Temporada 1: Mentiras (Episódio 2)</td>\n",
              "      <td>NaN</td>\n",
              "      <td>Chrome PC (Cadmium)</td>\n",
              "      <td>00:41:48</td>\n",
              "      <td>00:41:48</td>\n",
              "      <td>BR (Brazil)</td>\n",
              "    </tr>\n",
              "    <tr>\n",
              "      <th>7453</th>\n",
              "      <td>Nanda</td>\n",
              "      <td>2019-08-22 03:53:38</td>\n",
              "      <td>00:00:30</td>\n",
              "      <td>NaN</td>\n",
              "      <td>Dark: Temporada 1: Passado e presente (Episódi...</td>\n",
              "      <td>NaN</td>\n",
              "      <td>Netflix Windows App - Cadmium Windows Mobile</td>\n",
              "      <td>00:00:30</td>\n",
              "      <td>Not latest view</td>\n",
              "      <td>BR (Brazil)</td>\n",
              "    </tr>\n",
              "    <tr>\n",
              "      <th>8976</th>\n",
              "      <td>Nanda</td>\n",
              "      <td>2019-05-27 13:21:12</td>\n",
              "      <td>00:48:12</td>\n",
              "      <td>Autoplayed: user action: None;</td>\n",
              "      <td>Dark: Temporada 1: Assim foi criado o mundo (E...</td>\n",
              "      <td>NaN</td>\n",
              "      <td>Netflix Windows App - Cadmium Windows Mobile</td>\n",
              "      <td>00:48:12</td>\n",
              "      <td>Not latest view</td>\n",
              "      <td>BR (Brazil)</td>\n",
              "    </tr>\n",
              "  </tbody>\n",
              "</table>\n",
              "</div>"
            ],
            "text/plain": [
              "     Profile Name           Start Time  ...  Latest Bookmark      Country\n",
              "3608        Nanda  2020-05-16 04:04:55  ...  Not latest view  BR (Brazil)\n",
              "8526        Nanda  2019-06-22 08:15:11  ...  Not latest view  BR (Brazil)\n",
              "2298        Nanda  2020-06-27 13:20:01  ...         00:55:22  BR (Brazil)\n",
              "2291        Nanda  2020-06-27 21:50:24  ...         01:08:20  BR (Brazil)\n",
              "8950        Nanda  2019-05-28 21:00:08  ...  Not latest view  BR (Brazil)\n",
              "7468        Nanda  2019-08-21 12:46:46  ...  Not latest view  BR (Brazil)\n",
              "3100        Nanda  2020-05-30 20:02:01  ...         00:45:00  BR (Brazil)\n",
              "8541        Nanda  2019-06-21 19:43:11  ...  Not latest view  BR (Brazil)\n",
              "2299        Nanda  2020-06-27 12:19:11  ...         00:57:28  BR (Brazil)\n",
              "9280        Nanda  2019-05-08 05:53:21  ...  Not latest view  BR (Brazil)\n",
              "8539        Nanda  2019-06-21 21:33:46  ...  Not latest view  BR (Brazil)\n",
              "8951        Nanda  2019-05-28 16:53:59  ...  Not latest view  BR (Brazil)\n",
              "8542        Nanda  2019-06-21 07:30:08  ...  Not latest view  BR (Brazil)\n",
              "2423        Nanda  2020-06-21 01:55:41  ...  Not latest view  BR (Brazil)\n",
              "7467        Nanda  2019-08-21 13:40:55  ...  Not latest view  BR (Brazil)\n",
              "2429        Nanda  2020-06-21 01:04:35  ...         00:50:59  BR (Brazil)\n",
              "2435        Nanda  2020-06-20 21:41:57  ...  Not latest view  BR (Brazil)\n",
              "3186        Nanda  2020-05-28 20:10:03  ...         00:41:48  BR (Brazil)\n",
              "7453        Nanda  2019-08-22 03:53:38  ...  Not latest view  BR (Brazil)\n",
              "8976        Nanda  2019-05-27 13:21:12  ...  Not latest view  BR (Brazil)\n",
              "\n",
              "[20 rows x 10 columns]"
            ]
          },
          "metadata": {
            "tags": []
          },
          "execution_count": 132
        }
      ]
    },
    {
      "cell_type": "code",
      "metadata": {
        "colab": {
          "base_uri": "https://localhost:8080/"
        },
        "id": "LcYzsHi6ZDGu",
        "outputId": "65ec3df6-e1ca-493c-c12a-0f2dae061fbc"
      },
      "source": [
        "dark.shape"
      ],
      "execution_count": null,
      "outputs": [
        {
          "output_type": "execute_result",
          "data": {
            "text/plain": [
              "(145, 3)"
            ]
          },
          "metadata": {
            "tags": []
          },
          "execution_count": 119
        }
      ]
    },
    {
      "cell_type": "markdown",
      "metadata": {
        "id": "zz8RiqlSZ-86"
      },
      "source": [
        "## Filtrando durações curtas\n",
        "\n",
        "A Netflix tem a opção de auto-play na página inicial que aparece no nosso dataframe e que não representa verdadeiramente um episódio assistido.\n",
        "\n",
        "Aqui podemos estabelecer um tempo mínimo para considerar que um episódio foi assistido **ou** podemos apenas desconsiderar os auto-plays, que duram menos de **1 minuto**. Usando esta última opção, teremos:"
      ]
    },
    {
      "cell_type": "code",
      "metadata": {
        "colab": {
          "base_uri": "https://localhost:8080/"
        },
        "id": "6rwLLFH1aitu",
        "outputId": "c752e633-c2fb-4e01-f952-3e457f1bfa7b"
      },
      "source": [
        "dark = dark[(dark['Duration'] > '0 days 00:01:00')]\n",
        "dark.shape"
      ],
      "execution_count": null,
      "outputs": [
        {
          "output_type": "execute_result",
          "data": {
            "text/plain": [
              "(128, 3)"
            ]
          },
          "metadata": {
            "tags": []
          },
          "execution_count": 120
        }
      ]
    },
    {
      "cell_type": "markdown",
      "metadata": {
        "id": "JdFMRxRDbjVj"
      },
      "source": [
        "## Análise dos dados\n",
        "\n",
        "Analisando o dataframe **dark** já podemos responder algumas perguntas:\n",
        "\n",
        "### Quanto tempo passei assistindo Dark?"
      ]
    },
    {
      "cell_type": "code",
      "metadata": {
        "colab": {
          "base_uri": "https://localhost:8080/"
        },
        "id": "DHhM1hlwbvdF",
        "outputId": "83a77a97-43b1-423c-ff89-76cc5cb46a5b"
      },
      "source": [
        "dark['Duration'].sum()"
      ],
      "execution_count": null,
      "outputs": [
        {
          "output_type": "execute_result",
          "data": {
            "text/plain": [
              "Timedelta('3 days 00:29:25')"
            ]
          },
          "metadata": {
            "tags": []
          },
          "execution_count": 121
        }
      ]
    },
    {
      "cell_type": "markdown",
      "metadata": {
        "id": "2JPtBkNTb51g"
      },
      "source": [
        "### Quando assisti Dark?\n",
        "\n",
        "Essa pergunta pode ser analisada e respondida de amis de uma forma:\n",
        "\n",
        "a) Quais dias da semana mais assisti episódios de Dark?\n",
        "b) A que horas do dia começo a assistir Dark?\n",
        "\n",
        "Podemos criar novas colunas para analisar. **Weekday** e **hour**. Assim podemos usar métodos na coluna **Start Time** e obter as informações das perguntas acima."
      ]
    },
    {
      "cell_type": "code",
      "metadata": {
        "colab": {
          "base_uri": "https://localhost:8080/",
          "height": 195
        },
        "id": "En2IlQJTb4Je",
        "outputId": "8b552ded-3516-4da5-8532-35afbf07c297"
      },
      "source": [
        "dark['weekday'] = dark['Start Time'].dt.weekday\n",
        "dark['hour'] = dark['Start Time'].dt.hour\n",
        "\n",
        "# Check se as colunas foram adicionadas corretamente\n",
        "dark.head()"
      ],
      "execution_count": null,
      "outputs": [
        {
          "output_type": "execute_result",
          "data": {
            "text/html": [
              "<div>\n",
              "<style scoped>\n",
              "    .dataframe tbody tr th:only-of-type {\n",
              "        vertical-align: middle;\n",
              "    }\n",
              "\n",
              "    .dataframe tbody tr th {\n",
              "        vertical-align: top;\n",
              "    }\n",
              "\n",
              "    .dataframe thead th {\n",
              "        text-align: right;\n",
              "    }\n",
              "</style>\n",
              "<table border=\"1\" class=\"dataframe\">\n",
              "  <thead>\n",
              "    <tr style=\"text-align: right;\">\n",
              "      <th></th>\n",
              "      <th>Start Time</th>\n",
              "      <th>Duration</th>\n",
              "      <th>Title</th>\n",
              "      <th>weekday</th>\n",
              "      <th>hour</th>\n",
              "    </tr>\n",
              "  </thead>\n",
              "  <tbody>\n",
              "    <tr>\n",
              "      <th>373</th>\n",
              "      <td>2020-06-27 18:50:24-03:00</td>\n",
              "      <td>0 days 01:08:55</td>\n",
              "      <td>Dark: Temporada 3: O paraíso (Episódio 8)</td>\n",
              "      <td>5</td>\n",
              "      <td>18</td>\n",
              "    </tr>\n",
              "    <tr>\n",
              "      <th>374</th>\n",
              "      <td>2020-06-27 17:26:49-03:00</td>\n",
              "      <td>0 days 01:05:13</td>\n",
              "      <td>Dark: Temporada 3: Entretempo (Episódio 7)</td>\n",
              "      <td>5</td>\n",
              "      <td>17</td>\n",
              "    </tr>\n",
              "    <tr>\n",
              "      <th>375</th>\n",
              "      <td>2020-06-27 16:20:50-03:00</td>\n",
              "      <td>0 days 00:52:49</td>\n",
              "      <td>Dark: Temporada 3: Luz e sombra (Episódio 6)</td>\n",
              "      <td>5</td>\n",
              "      <td>16</td>\n",
              "    </tr>\n",
              "    <tr>\n",
              "      <th>376</th>\n",
              "      <td>2020-06-27 15:10:04-03:00</td>\n",
              "      <td>0 days 00:58:19</td>\n",
              "      <td>Dark: Temporada 3: Vida e morte (Episódio 5)</td>\n",
              "      <td>5</td>\n",
              "      <td>15</td>\n",
              "    </tr>\n",
              "    <tr>\n",
              "      <th>377</th>\n",
              "      <td>2020-06-27 14:14:50-03:00</td>\n",
              "      <td>0 days 00:51:54</td>\n",
              "      <td>Dark: Temporada 3: A origem (Episódio 4)</td>\n",
              "      <td>5</td>\n",
              "      <td>14</td>\n",
              "    </tr>\n",
              "  </tbody>\n",
              "</table>\n",
              "</div>"
            ],
            "text/plain": [
              "                   Start Time        Duration  ... weekday  hour\n",
              "373 2020-06-27 18:50:24-03:00 0 days 01:08:55  ...       5    18\n",
              "374 2020-06-27 17:26:49-03:00 0 days 01:05:13  ...       5    17\n",
              "375 2020-06-27 16:20:50-03:00 0 days 00:52:49  ...       5    16\n",
              "376 2020-06-27 15:10:04-03:00 0 days 00:58:19  ...       5    15\n",
              "377 2020-06-27 14:14:50-03:00 0 days 00:51:54  ...       5    14\n",
              "\n",
              "[5 rows x 5 columns]"
            ]
          },
          "metadata": {
            "tags": []
          },
          "execution_count": 122
        }
      ]
    },
    {
      "cell_type": "markdown",
      "metadata": {
        "id": "Kx74lnYIe3k8"
      },
      "source": [
        "## Visualizando os dados\n",
        "\n",
        "Podemos usar matplotlib para visualizar os dados. Por exemplo, meu hábito de assistir Dark durante a semana.\n"
      ]
    },
    {
      "cell_type": "code",
      "metadata": {
        "id": "miEjbEdXgyvw"
      },
      "source": [
        "%matplotlib inline\n",
        "import matplotlib"
      ],
      "execution_count": null,
      "outputs": []
    },
    {
      "cell_type": "code",
      "metadata": {
        "colab": {
          "base_uri": "https://localhost:8080/",
          "height": 638
        },
        "id": "lsLEZCAdg88t",
        "outputId": "9d8107d8-396a-44ed-8abc-4e6705540d23"
      },
      "source": [
        "# Setando variáveis categóricas e definindo pra ser ordenada de forma que aparece de Segunda (0) a Domingo (6)\n",
        "dark['weekday'] = pd.Categorical(dark['weekday'], categories = [0,1,2,3,4,5,6], ordered=True)\n",
        "\n",
        "# Criando a df dark_by_day e contando as linhas para cada dia de semana\n",
        "dark_by_day = dark['weekday'].value_counts()\n",
        "\n",
        "# ordenando de Segunda (0) a Domingo (6)\n",
        "dark_by_day = dark_by_day.sort_index()\n",
        "\n",
        "# Aumentando o tamanho da fonte para ficar mais legível\n",
        "matplotlib.rcParams.update({'font.size':22})\n",
        "\n",
        "# Plotando um gráfico de barras com o tamanho e título descritos\n",
        "dark_by_day.plot(kind='bar', figsize=(20,10), title='Dark Episodes Watched by Day')"
      ],
      "execution_count": null,
      "outputs": [
        {
          "output_type": "execute_result",
          "data": {
            "text/plain": [
              "<matplotlib.axes._subplots.AxesSubplot at 0x7f0865aec5f8>"
            ]
          },
          "metadata": {
            "tags": []
          },
          "execution_count": 126
        },
        {
          "output_type": "display_data",
          "data": {
            "image/png": "[encoded data removed]",
            "text/plain": [
              "<Figure size 1440x720 with 1 Axes>"
            ]
          },
          "metadata": {
            "tags": [],
            "needs_background": "light"
          }
        }
      ]
    },
    {
      "cell_type": "markdown",
      "metadata": {
        "id": "dkcvCXQeiRM9"
      },
      "source": [
        "## Faz sentido?\n",
        "\n",
        "Conhecendo meus hábitos, sim. Normalmente assisto Dark nos fins de semana, sábado, principalmente.\n",
        "\n",
        "### E se analisarmos por hora?"
      ]
    },
    {
      "cell_type": "code",
      "metadata": {
        "colab": {
          "base_uri": "https://localhost:8080/",
          "height": 653
        },
        "id": "MSv0_I5CiQ9l",
        "outputId": "0a9724bc-e942-43eb-d921-b15079f76a64"
      },
      "source": [
        "# Setando variável categórica de horas, plotando de 0 a 23h\n",
        "dark['hour'] = pd.Categorical(dark['hour'], categories =[0,1,2,3,4,5,6,7,8,9,10,11,12,13,14,15,16,17,18,19,20,21,22,23],\n",
        "    ordered=True)\n",
        "\n",
        "# Criando a df dark_by_day e contando as linhas para cada hora\n",
        "dark_by_hour = dark['hour'].value_counts()\n",
        "\n",
        "# ordenando de 0 a 23 h\n",
        "dark_by_hour = dark_by_hour.sort_index()\n",
        "\n",
        "# Aumentando o tamanho da fonte para ficar mais legível\n",
        "matplotlib.rcParams.update({'font.size':22})\n",
        "\n",
        "# Plotando um gráfico de barras com o tamanho e título descritos\n",
        "dark_by_hour.plot(kind='bar', figsize=(20,10), title='Dark Episodes Watched by Hour')"
      ],
      "execution_count": null,
      "outputs": [
        {
          "output_type": "execute_result",
          "data": {
            "text/plain": [
              "<matplotlib.axes._subplots.AxesSubplot at 0x7f0865aa8748>"
            ]
          },
          "metadata": {
            "tags": []
          },
          "execution_count": 128
        },
        {
          "output_type": "display_data",
          "data": {
            "image/png": "[encoded data removed]",
            "text/plain": [
              "<Figure size 1440x720 with 1 Axes>"
            ]
          },
          "metadata": {
            "tags": [],
            "needs_background": "light"
          }
        }
      ]
    }
  ]
}